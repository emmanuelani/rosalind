{
  "nbformat": 4,
  "nbformat_minor": 0,
  "metadata": {
    "colab": {
      "name": "Samuel.ipynb",
      "provenance": []
    },
    "kernelspec": {
      "name": "python3",
      "display_name": "Python 3"
    },
    "language_info": {
      "name": "python"
    }
  },
  "cells": [
    {
      "cell_type": "code",
      "metadata": {
        "colab": {
          "base_uri": "https://localhost:8080/"
        },
        "id": "8e-vRXVIhbBO",
        "outputId": "b40cc43a-9d70-45d2-82ca-ada82dca1b31"
      },
      "source": [
        "print ('Name:Samuel Mensah Baffoe\\n' 'email:samuelmensahbaffoe97@gmail.com\\n' 'slack_name: Samuel@slack.com\\n' 'biostack:Transcriptomics')"
      ],
      "execution_count": 4,
      "outputs": [
        {
          "output_type": "stream",
          "text": [
            "Name:Samuel Mensah Baffoe\n",
            "Email:samuelmensahbaffoe97@gmail.com\n",
            "Slack_name:Samuel@slack.com\n",
            "Biostack:Transcriptomics\n"
          ],
          "name": "stdout"
        }
      ]
    },
    {
      "cell_type": "code",
      "metadata": {
        "id": "nykaHrF3iVDK"
      },
      "source": [
        ""
      ],
      "execution_count": null,
      "outputs": []
    }
  ]
}
